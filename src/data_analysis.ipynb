{
 "cells": [
  {
   "cell_type": "markdown",
   "metadata": {},
   "source": [
    "# Desafio Casa dos Ventos - GED-20"
   ]
  },
  {
   "cell_type": "markdown",
   "metadata": {},
   "source": [
    "## Análise de Dados"
   ]
  },
  {
   "cell_type": "markdown",
   "metadata": {},
   "source": [
    "Usinas selecionadas:\n",
    "\n",
    "- Grande: Furnas- PSATFUR\n",
    "\n",
    "- Paranaíba: Emborcação- PSATEMB ou Itumbiara- PSATIMBR\n",
    "\n",
    "- Paraná: Itaipu- PSATITP\n",
    "\n",
    "- Iguaçu: Foz do Areia (ou G. B. Munhoz)- PSATFZA\n",
    "\n",
    "- Uruguai: Campos Novos- PSATCNV\n",
    "\n",
    "- Tocantins: Lajeado- PSATLAJ\n",
    "\n",
    "- Madeira: Jirau- PSATJIRA\n",
    "\n",
    "- Xingu: Pimental- PSATPIME"
   ]
  },
  {
   "cell_type": "markdown",
   "metadata": {},
   "source": [
    "### Importando bibliotecas"
   ]
  },
  {
   "cell_type": "code",
   "execution_count": 1,
   "metadata": {},
   "outputs": [],
   "source": [
    "import pandas as pd\n",
    "from data_import import *"
   ]
  },
  {
   "cell_type": "markdown",
   "metadata": {},
   "source": [
    "### Importando os dados"
   ]
  },
  {
   "cell_type": "code",
   "execution_count": 2,
   "metadata": {},
   "outputs": [],
   "source": [
    "df_dict = import_precipitation_timeseries()\n",
    "plants = get_plants()"
   ]
  },
  {
   "cell_type": "code",
   "execution_count": null,
   "metadata": {},
   "outputs": [],
   "source": []
  }
 ],
 "metadata": {
  "kernelspec": {
   "display_name": "ged-20",
   "language": "python",
   "name": "python3"
  },
  "language_info": {
   "codemirror_mode": {
    "name": "ipython",
    "version": 3
   },
   "file_extension": ".py",
   "mimetype": "text/x-python",
   "name": "python",
   "nbconvert_exporter": "python",
   "pygments_lexer": "ipython3",
   "version": "3.11.8"
  }
 },
 "nbformat": 4,
 "nbformat_minor": 2
}
