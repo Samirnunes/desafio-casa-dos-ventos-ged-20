{
 "cells": [
  {
   "cell_type": "markdown",
   "metadata": {},
   "source": [
    "# Relatório - Desafio Casa dos Ventos - GED-20"
   ]
  },
  {
   "cell_type": "markdown",
   "metadata": {},
   "source": [
    "### Etapas\n",
    "\n",
    "__1. Sample__: importação e geração das bases dos dados que serão utilizadas;\n",
    "\n",
    "__2. Explore__: análise exploratória dos dados;\n",
    "\n",
    "__3. Modify__: transformação dos dados (geração de novas features) e divisão dos dados em conjuntos de treino e teste dos modelos."
   ]
  },
  {
   "cell_type": "markdown",
   "metadata": {},
   "source": [
    "### Sample"
   ]
  },
  {
   "cell_type": "markdown",
   "metadata": {},
   "source": [
    "#### Importando as bibliotecas"
   ]
  },
  {
   "cell_type": "code",
   "execution_count": null,
   "metadata": {},
   "outputs": [],
   "source": [
    "import pandas as pd\n",
    "from data_import import *"
   ]
  },
  {
   "cell_type": "markdown",
   "metadata": {},
   "source": [
    "__data_import.py__\n",
    "\n",
    "```python\n",
    "import pandas as pd\n",
    "\n",
    "def separate_plants_ts():\n",
    "    merge = pd.read_csv(\"../data/merge.csv\")\n",
    "    for code in merge[\"ana_code\"].unique():\n",
    "        path = f\"../data/ts-{code}.csv\"\n",
    "        ts = merge[merge[\"ana_code\"] == code].sort_values(by=\"date_ref\").reset_index(drop=True)\n",
    "        ts.index = pd.to_datetime(ts[\"date_ref\"])\n",
    "        ts = ts.drop([\"date_ref\", \"ana_code\"], axis=1)\n",
    "        ts.to_csv(path)\n",
    "\n",
    "def get_plants():\n",
    "    df = pd.read_csv(\"../data/merge.csv\")\n",
    "    return  df[\"ana_code\"].unique()\n",
    "\n",
    "def import_precipitation_ts():\n",
    "    df_dict = {}\n",
    "    for plant in get_plants():\n",
    "        df_dict[plant] = pd.read_csv(f\"../data/ts-{plant}.csv\", index_col=0)\n",
    "    return df_dict\n",
    "```"
   ]
  },
  {
   "cell_type": "markdown",
   "metadata": {},
   "source": [
    "#### Gerando os dados a partir de merge.csv"
   ]
  },
  {
   "cell_type": "code",
   "execution_count": null,
   "metadata": {},
   "outputs": [],
   "source": [
    "separate_plants_ts()"
   ]
  },
  {
   "cell_type": "markdown",
   "metadata": {},
   "source": [
    "#### Importando os dados"
   ]
  },
  {
   "cell_type": "code",
   "execution_count": null,
   "metadata": {},
   "outputs": [],
   "source": [
    "ts_dict = import_precipitation_ts()\n",
    "plants = get_plants()"
   ]
  },
  {
   "cell_type": "code",
   "execution_count": null,
   "metadata": {},
   "outputs": [],
   "source": [
    "plants"
   ]
  },
  {
   "cell_type": "markdown",
   "metadata": {},
   "source": [
    "### Explore"
   ]
  },
  {
   "cell_type": "markdown",
   "metadata": {},
   "source": [
    "Usinas selecionadas:\n",
    "\n",
    "- Grande: Furnas- PSATFUR\n",
    "\n",
    "- Paranaíba: Emborcação- PSATEMB ou Itumbiara- PSATIMBR\n",
    "\n",
    "- Paraná: Itaipu- PSATITP\n",
    "\n",
    "- Iguaçu: Foz do Areia (ou G. B. Munhoz)- PSATFZA\n",
    "\n",
    "- Uruguai: Campos Novos- PSATCNV\n",
    "\n",
    "- Tocantins: Lajeado- PSATLAJ\n",
    "\n",
    "- Madeira: Jirau- PSATJIRA\n",
    "\n",
    "- Xingu: Pimental- PSATPIME"
   ]
  },
  {
   "cell_type": "markdown",
   "metadata": {},
   "source": [
    "#### Importando bibliotecas"
   ]
  },
  {
   "cell_type": "code",
   "execution_count": null,
   "metadata": {},
   "outputs": [],
   "source": [
    "from data_analysis import *"
   ]
  },
  {
   "cell_type": "markdown",
   "metadata": {},
   "source": [
    "__data_analysis.py__\n",
    "\n",
    "```python\n",
    "import pandas as pd\n",
    "import matplotlib.pyplot as plt\n",
    "import os\n",
    "from PIL import Image\n",
    "\n",
    "def plot_plant_ts_daily(ts_dict, plant=\"PSATCNV\", close=True):\n",
    "    plt.figure(figsize=(8,6))\n",
    "    ts_dict[plant].plot()\n",
    "    plt.title(f\"Precipitação média diária para {plant}\")\n",
    "    folder_path = f\"figs-{plant}/\"\n",
    "    if not os.path.exists(folder_path):\n",
    "        os.mkdir(folder_path)\n",
    "    save_path = f\"{folder_path}daily_mean.png\"\n",
    "    plt.savefig(save_path)\n",
    "    if close:\n",
    "        plt.close()\n",
    "    return save_path\n",
    "       \n",
    "def plot_plant_ts_accumulated_by_month(ts_dict, plant=\"PSATCNV\", close=True):\n",
    "    plt.figure(figsize=(8, 6))\n",
    "    ts = ts_dict[plant]\n",
    "    df = ts.copy()\n",
    "    df.index = pd.to_datetime(df.index)\n",
    "    df = df.resample('M').sum()\n",
    "    df.plot(color=\"darkblue\", legend=False)\n",
    "    plt.title(f\"Precipitação média acumulada por mês para {plant}\")\n",
    "    plt.xlabel(\"Data de referência\")\n",
    "    folder_path = f\"figs-{plant}/\"\n",
    "    if not os.path.exists(folder_path):\n",
    "        os.mkdir(folder_path)\n",
    "    save_path = f\"{folder_path}accumulated_by_month.png\"\n",
    "    plt.savefig(save_path)\n",
    "    if close:\n",
    "        plt.close()\n",
    "    return save_path\n",
    "    \n",
    "def plot_plant_ts_accumulated_by_year(ts_dict, plant=\"PSATCNV\", close=True):\n",
    "    plt.figure(figsize=(8,6))\n",
    "    ts = ts_dict[plant]\n",
    "    df = ts.copy()\n",
    "    df.index = pd.to_datetime(df.index)\n",
    "    df = df[df.index < \"2024-01-01\"]\n",
    "    df = df.resample('Y').sum()\n",
    "    df.plot(color=\"darkblue\", legend=False)\n",
    "    plt.title(f\"Precipitação média acumulada por ano para {plant}\")\n",
    "    plt.xlabel(\"Data de referência\")\n",
    "    plt.grid()\n",
    "    folder_path = f\"figs-{plant}/\"\n",
    "    if not os.path.exists(folder_path):\n",
    "        os.mkdir(folder_path)\n",
    "    save_path = f\"{folder_path}accumulated_by_year.png\"\n",
    "    plt.savefig(save_path)\n",
    "    if close:\n",
    "        plt.close()\n",
    "    return save_path\n",
    "    \n",
    "def plot_plant_ts_mean_by_month(ts_dict, plant=\"PSATCNV\", close=True):\n",
    "    plt.figure(figsize=(8,6))\n",
    "    ts = ts_dict[plant]\n",
    "    df = ts.copy()\n",
    "    df.index = pd.to_datetime(df.index)\n",
    "    df = df.resample('M').sum()\n",
    "    df = df.groupby(df.index.month).mean()\n",
    "    plt.bar(df.index, df[\"mean_precipitation\"], color=\"darkblue\")\n",
    "    plt.xticks([i+1 for i in range(len(df.index))], list(df.index))\n",
    "    plt.title(f\"Média das precipitações acumuladas por mês para {plant} ao longo dos anos\")\n",
    "    plt.xlabel(\"Data de referência\", fontsize=12)\n",
    "    folder_path = f\"figs-{plant}/\"\n",
    "    if not os.path.exists(folder_path):\n",
    "        os.mkdir(folder_path)\n",
    "    save_path = f\"{folder_path}mean-by-month.png\"\n",
    "    plt.savefig(save_path)\n",
    "    if close:\n",
    "        plt.close()\n",
    "    return save_path\n",
    "\n",
    "def precipitation_plots(ts_dict, plant=\"PSATCNV\"):\n",
    "    save_path0 = plot_plant_ts_daily(ts_dict, plant)\n",
    "    save_path1 = plot_plant_ts_accumulated_by_month(ts_dict, plant)\n",
    "    save_path2 = plot_plant_ts_accumulated_by_year(ts_dict, plant)\n",
    "    save_path3 = plot_plant_ts_mean_by_month(ts_dict, plant)\n",
    "    fig, axs= plt.subplots(2, 2, figsize=(20, 18))\n",
    "    img0 = Image.open(save_path0) \n",
    "    img1 = Image.open(save_path1)\n",
    "    img2 = Image.open(save_path2)\n",
    "    img3 = Image.open(save_path3)\n",
    "    axs[0, 0].imshow(img0)\n",
    "    axs[0, 1].imshow(img1)\n",
    "    axs[1, 0].imshow(img2)\n",
    "    axs[1, 1].imshow(img3)\n",
    "    for ax in axs.flatten():\n",
    "        ax.axis(\"off\")\n",
    "    folder_path = f\"figs-{plant}/\"\n",
    "    if not os.path.exists(folder_path):\n",
    "        os.mkdir(folder_path)\n",
    "    save_path = f\"{folder_path}all.png\"\n",
    "    plt.savefig(save_path, bbox_inches='tight', pad_inches=0)\n",
    "    plt.show()\n",
    "```"
   ]
  },
  {
   "cell_type": "markdown",
   "metadata": {},
   "source": [
    "#### Análise das séries temporais a partir dos gráficos"
   ]
  },
  {
   "cell_type": "markdown",
   "metadata": {},
   "source": [
    "__PSATFUR - Furnas__"
   ]
  },
  {
   "cell_type": "code",
   "execution_count": null,
   "metadata": {},
   "outputs": [],
   "source": [
    "df = ts_dict[\"PSATFUR\"]"
   ]
  },
  {
   "cell_type": "code",
   "execution_count": null,
   "metadata": {},
   "outputs": [],
   "source": [
    "df.shape"
   ]
  },
  {
   "cell_type": "code",
   "execution_count": null,
   "metadata": {},
   "outputs": [],
   "source": [
    "begin_date = df.head(1).index[0]\n",
    "end_date = df.tail(1).index[0]\n",
    "\n",
    "print(f\"Data de início das medições: {begin_date}\")\n",
    "print(f\"Data de fim das medições: {end_date}\")"
   ]
  },
  {
   "cell_type": "code",
   "execution_count": null,
   "metadata": {},
   "outputs": [],
   "source": [
    "df.describe()"
   ]
  },
  {
   "cell_type": "markdown",
   "metadata": {},
   "source": [
    "Por meio do gráfico de precipitação média acumulada por ano, verifica-se tendência decrescente de chuvas entre 2009 e 2014, bem como tendência de crescimento entre 2015 e 2023. \n",
    "\n",
    "Além disso, por meio do gráfico de barras dos meses, nota-se que a maior quantidade de chuvas ocorre no começo e no fim do ano, de outubro a dezembro e de janeiro a março."
   ]
  },
  {
   "cell_type": "code",
   "execution_count": null,
   "metadata": {},
   "outputs": [],
   "source": [
    "precipitation_plots(ts_dict, \"PSATFUR\")"
   ]
  },
  {
   "cell_type": "markdown",
   "metadata": {},
   "source": [
    "__PSATIMBR - Itumbiara__"
   ]
  },
  {
   "cell_type": "code",
   "execution_count": null,
   "metadata": {},
   "outputs": [],
   "source": [
    "df = ts_dict[\"PSATIMBR\"]"
   ]
  },
  {
   "cell_type": "code",
   "execution_count": null,
   "metadata": {},
   "outputs": [],
   "source": [
    "df.shape"
   ]
  },
  {
   "cell_type": "code",
   "execution_count": null,
   "metadata": {},
   "outputs": [],
   "source": [
    "df.info()"
   ]
  },
  {
   "cell_type": "code",
   "execution_count": null,
   "metadata": {},
   "outputs": [],
   "source": [
    "begin_date = df.head(1).index[0]\n",
    "end_date = df.tail(1).index[0]\n",
    "\n",
    "print(f\"Data de início das medições: {begin_date}\")\n",
    "print(f\"Data de fim das medições: {end_date}\")"
   ]
  },
  {
   "cell_type": "code",
   "execution_count": null,
   "metadata": {},
   "outputs": [],
   "source": [
    "df.describe()"
   ]
  },
  {
   "cell_type": "markdown",
   "metadata": {},
   "source": [
    "Por meio do gráfico de precipitação média acumulada por ano, verifica-se tendência de manutenção da quantidade de chuvas ao longo dos anos, com poucas variações médias entre eles.\n",
    "\n",
    "Além disso, por meio do gráfico de barras dos meses, nota-se que a maior quantidade de chuvas ocorre no começo e no fim do ano, de outubro a dezembro e de janeiro a março."
   ]
  },
  {
   "cell_type": "code",
   "execution_count": null,
   "metadata": {},
   "outputs": [],
   "source": [
    "precipitation_plots(ts_dict, \"PSATIMBR\")"
   ]
  },
  {
   "cell_type": "markdown",
   "metadata": {},
   "source": [
    "__PSATITP - Itaipu__"
   ]
  },
  {
   "cell_type": "code",
   "execution_count": null,
   "metadata": {},
   "outputs": [],
   "source": [
    "df = ts_dict[\"PSATITP\"]"
   ]
  },
  {
   "cell_type": "code",
   "execution_count": null,
   "metadata": {},
   "outputs": [],
   "source": [
    "df.shape"
   ]
  },
  {
   "cell_type": "code",
   "execution_count": null,
   "metadata": {},
   "outputs": [],
   "source": [
    "df.info()"
   ]
  },
  {
   "cell_type": "code",
   "execution_count": null,
   "metadata": {},
   "outputs": [],
   "source": [
    "begin_date = df.head(1).index[0]\n",
    "end_date = df.tail(1).index[0]\n",
    "\n",
    "print(f\"Data de início das medições: {begin_date}\")\n",
    "print(f\"Data de fim das medições: {end_date}\")"
   ]
  },
  {
   "cell_type": "code",
   "execution_count": null,
   "metadata": {},
   "outputs": [],
   "source": [
    "df.describe()"
   ]
  },
  {
   "cell_type": "markdown",
   "metadata": {},
   "source": [
    "Por meio do gráfico de precipitação média acumulada por ano, verifica-se tendência de manutenção da quantidade de chuvas, no geral. No entanto, nota-se que em 2008 e em 2020, a quantidade de chuvas foi abaixo do normal.\n",
    "\n",
    "Além disso, por meio do gráfico de barras dos meses, nota-se que a maior quantidade de chuvas ocorre nos meses de outubro a fevereiro, mas principalmente no mês de outubro."
   ]
  },
  {
   "cell_type": "code",
   "execution_count": null,
   "metadata": {},
   "outputs": [],
   "source": [
    "precipitation_plots(ts_dict, \"PSATITP\")"
   ]
  },
  {
   "cell_type": "markdown",
   "metadata": {},
   "source": [
    "__PSATFZA - Foz do Areia__"
   ]
  },
  {
   "cell_type": "code",
   "execution_count": null,
   "metadata": {},
   "outputs": [],
   "source": [
    "df = ts_dict[\"PSATFZA\"]"
   ]
  },
  {
   "cell_type": "code",
   "execution_count": null,
   "metadata": {},
   "outputs": [],
   "source": [
    "df.shape"
   ]
  },
  {
   "cell_type": "code",
   "execution_count": null,
   "metadata": {},
   "outputs": [],
   "source": [
    "df.info()"
   ]
  },
  {
   "cell_type": "code",
   "execution_count": null,
   "metadata": {},
   "outputs": [],
   "source": [
    "begin_date = df.head(1).index[0]\n",
    "end_date = df.tail(1).index[0]\n",
    "\n",
    "print(f\"Data de início das medições: {begin_date}\")\n",
    "print(f\"Data de fim das medições: {end_date}\")"
   ]
  },
  {
   "cell_type": "code",
   "execution_count": null,
   "metadata": {},
   "outputs": [],
   "source": [
    "df.describe()"
   ]
  },
  {
   "cell_type": "markdown",
   "metadata": {},
   "source": [
    "Por meio do gráfico de precipitação média acumulada por ano, verifica-se tendência de manutenção da quantidade de chuvas, no geral. No entanto, nota-se que em 2012 e em 2021, a quantidade de chuvas foi abaixo do normal, e que em 2015 foi bem acima do normal.\n",
    "\n",
    "Além disso, por meio do gráfico de barras dos meses, nota-se que a maior quantidade de chuvas ocorre no mês de outubro, com boa constância na quantidade de chuvas ao longo de todos os meses do ano."
   ]
  },
  {
   "cell_type": "code",
   "execution_count": null,
   "metadata": {},
   "outputs": [],
   "source": [
    "precipitation_plots(ts_dict, \"PSATFZA\")"
   ]
  },
  {
   "cell_type": "markdown",
   "metadata": {},
   "source": [
    "__PSATCNV - Campos Novos__"
   ]
  },
  {
   "cell_type": "code",
   "execution_count": null,
   "metadata": {},
   "outputs": [],
   "source": [
    "df = ts_dict[\"PSATCNV\"]"
   ]
  },
  {
   "cell_type": "code",
   "execution_count": null,
   "metadata": {},
   "outputs": [],
   "source": [
    "df.shape"
   ]
  },
  {
   "cell_type": "code",
   "execution_count": null,
   "metadata": {},
   "outputs": [],
   "source": [
    "df.info()"
   ]
  },
  {
   "cell_type": "code",
   "execution_count": null,
   "metadata": {},
   "outputs": [],
   "source": [
    "begin_date = df.head(1).index[0]\n",
    "end_date = df.tail(1).index[0]\n",
    "\n",
    "print(f\"Data de início das medições: {begin_date}\")\n",
    "print(f\"Data de fim das medições: {end_date}\")"
   ]
  },
  {
   "cell_type": "code",
   "execution_count": null,
   "metadata": {},
   "outputs": [],
   "source": [
    "df.describe()"
   ]
  },
  {
   "cell_type": "markdown",
   "metadata": {},
   "source": [
    "Por meio do gráfico de precipitação média acumulada por ano, verifica-se tendência de manutenção da quantidade de chuvas, no geral. No entanto, nota-se que em 2003, 2004, 2012 e 2020, a quantidade de chuvas foi bem abaixo do normal, e que em 2011, 2014 e 2015 foi bem acima do normal.\n",
    "\n",
    "Além disso, por meio do gráfico de barras dos meses, nota-se que a maior quantidade de chuvas ocorre no mês de outubro, com boa constância na quantidade de chuvas ao longo de todos os meses do ano."
   ]
  },
  {
   "cell_type": "code",
   "execution_count": null,
   "metadata": {},
   "outputs": [],
   "source": [
    "precipitation_plots(ts_dict, \"PSATCNV\")"
   ]
  },
  {
   "cell_type": "markdown",
   "metadata": {},
   "source": [
    "__PSATLAJ - Lajeado__"
   ]
  },
  {
   "cell_type": "code",
   "execution_count": null,
   "metadata": {},
   "outputs": [],
   "source": [
    "df = ts_dict[\"PSATLAJ\"]"
   ]
  },
  {
   "cell_type": "code",
   "execution_count": null,
   "metadata": {},
   "outputs": [],
   "source": [
    "df.shape"
   ]
  },
  {
   "cell_type": "code",
   "execution_count": null,
   "metadata": {},
   "outputs": [],
   "source": [
    "df.info()"
   ]
  },
  {
   "cell_type": "code",
   "execution_count": null,
   "metadata": {},
   "outputs": [],
   "source": [
    "begin_date = df.head(1).index[0]\n",
    "end_date = df.tail(1).index[0]\n",
    "\n",
    "print(f\"Data de início das medições: {begin_date}\")\n",
    "print(f\"Data de fim das medições: {end_date}\")"
   ]
  },
  {
   "cell_type": "code",
   "execution_count": null,
   "metadata": {},
   "outputs": [],
   "source": [
    "df.describe()"
   ]
  },
  {
   "cell_type": "markdown",
   "metadata": {},
   "source": [
    "Por meio do gráfico de precipitação média acumulada por ano, verifica-se tendência de manutenção da quantidade de chuvas ao longo dos anos, com poucas variações médias entre eles.\n",
    "\n",
    "Além disso, por meio do gráfico de barras dos meses, nota-se que a maior quantidade de chuvas ocorre no começo e no fim do ano, de outubro a dezembro e de janeiro a março. Ademais, nota-se grande diminuição na quantidade de chuvas no meio do ano, nos meses 6, 7 e 8, principalmente."
   ]
  },
  {
   "cell_type": "code",
   "execution_count": null,
   "metadata": {},
   "outputs": [],
   "source": [
    "precipitation_plots(ts_dict, \"PSATLAJ\")"
   ]
  },
  {
   "cell_type": "markdown",
   "metadata": {},
   "source": [
    "__PSATJIRA - Jirau__"
   ]
  },
  {
   "cell_type": "code",
   "execution_count": null,
   "metadata": {},
   "outputs": [],
   "source": [
    "df = ts_dict[\"PSATJIRA\"]"
   ]
  },
  {
   "cell_type": "code",
   "execution_count": null,
   "metadata": {},
   "outputs": [],
   "source": [
    "df.shape"
   ]
  },
  {
   "cell_type": "code",
   "execution_count": null,
   "metadata": {},
   "outputs": [],
   "source": [
    "df.info()"
   ]
  },
  {
   "cell_type": "code",
   "execution_count": null,
   "metadata": {},
   "outputs": [],
   "source": [
    "begin_date = df.head(1).index[0]\n",
    "end_date = df.tail(1).index[0]\n",
    "\n",
    "print(f\"Data de início das medições: {begin_date}\")\n",
    "print(f\"Data de fim das medições: {end_date}\")"
   ]
  },
  {
   "cell_type": "code",
   "execution_count": null,
   "metadata": {},
   "outputs": [],
   "source": [
    "df.describe()"
   ]
  },
  {
   "cell_type": "markdown",
   "metadata": {},
   "source": [
    "Por meio do gráfico de precipitação média acumulada por ano, verifica-se tendência de manutenção da quantidade de chuvas ao longo dos anos, com poucas variações médias entre eles.\n",
    "\n",
    "Além disso, por meio do gráfico de barras dos meses, nota-se que a maior quantidade de chuvas ocorre no começo e no fim do ano, de outubro a dezembro e de janeiro a março. Ademais, nota-se grande diminuição na quantidade de chuvas no meio do ano, nos meses 6, 7 e 8, principalmente."
   ]
  },
  {
   "cell_type": "code",
   "execution_count": null,
   "metadata": {},
   "outputs": [],
   "source": [
    "precipitation_plots(ts_dict, \"PSATJIRA\")"
   ]
  },
  {
   "cell_type": "markdown",
   "metadata": {},
   "source": [
    "__PSATPIME - Pimental__"
   ]
  },
  {
   "cell_type": "code",
   "execution_count": null,
   "metadata": {},
   "outputs": [],
   "source": [
    "df = ts_dict[\"PSATPIME\"]"
   ]
  },
  {
   "cell_type": "code",
   "execution_count": null,
   "metadata": {},
   "outputs": [],
   "source": [
    "df.shape"
   ]
  },
  {
   "cell_type": "code",
   "execution_count": null,
   "metadata": {},
   "outputs": [],
   "source": [
    "df.info()"
   ]
  },
  {
   "cell_type": "code",
   "execution_count": null,
   "metadata": {},
   "outputs": [],
   "source": [
    "begin_date = df.head(1).index[0]\n",
    "end_date = df.tail(1).index[0]\n",
    "\n",
    "print(f\"Data de início das medições: {begin_date}\")\n",
    "print(f\"Data de fim das medições: {end_date}\")"
   ]
  },
  {
   "cell_type": "code",
   "execution_count": null,
   "metadata": {},
   "outputs": [],
   "source": [
    "df.describe()"
   ]
  },
  {
   "cell_type": "markdown",
   "metadata": {},
   "source": [
    "Por meio do gráfico de precipitação média acumulada por ano, verifica-se tendência de manutenção da quantidade de chuvas ao longo dos anos, com poucas variações médias entre eles.\n",
    "\n",
    "Além disso, por meio do gráfico de barras dos meses, nota-se que a maior quantidade de chuvas ocorre principalmente no começo ano, de janeiro a março. Ademais, nota-se grande diminuição na quantidade de chuvas no meio do ano, nos meses 6, 7 e 8, principalmente, e tendência de aumento gradativo a partir de setembro."
   ]
  },
  {
   "cell_type": "code",
   "execution_count": null,
   "metadata": {},
   "outputs": [],
   "source": [
    "precipitation_plots(ts_dict, \"PSATPIME\")"
   ]
  },
  {
   "cell_type": "markdown",
   "metadata": {},
   "source": [
    "### Modify"
   ]
  },
  {
   "cell_type": "markdown",
   "metadata": {},
   "source": [
    "```python\n",
    "def separate_predictions_plants_ts(name: str):\n",
    "    df = pd.read_csv(f\"../data/{name}.csv\")\n",
    "    df['date_ref'] = pd.to_datetime(df['date_ref'])\n",
    "    df['date_forecast'] = pd.to_datetime(df['date_forecast'])\n",
    "    df['date_diff'] = (df['date_forecast'] - df['date_ref']).dt.days\n",
    "\n",
    "    pivot_df = df.pivot_table(index=['ana_code', 'date_ref'],\n",
    "                              columns='date_diff',\n",
    "                              values='mean_precipitation',\n",
    "                              fill_value=0)\n",
    "    transformed_df = pivot_df.reset_index()\n",
    "    transformed_df.columns.name = None  # Remove the column name (date_diff)\n",
    "    days_columns = [f'{name}_d+{col}' for col in transformed_df.columns[2:]]\n",
    "    transformed_df.columns = ['ana_code', 'date_ref'] + days_columns\n",
    "\n",
    "    for code in transformed_df[\"ana_code\"].unique():\n",
    "        path = f\"../data/ts-{code}.csv\"\n",
    "        ts = pd.read_csv(path)\n",
    "        ts['date_ref'] = pd.to_datetime(ts['date_ref'])\n",
    "        code_df = transformed_df[transformed_df[\"ana_code\"] == code].drop(columns='ana_code')\n",
    "        merged = pd.merge(code_df, ts, on='date_ref', how='inner')\n",
    "        merged.to_csv(path, index=False)\n",
    "```"
   ]
  },
  {
   "cell_type": "code",
   "execution_count": null,
   "metadata": {},
   "outputs": [],
   "source": [
    "import pandas as pd\n",
    "from data_import import *"
   ]
  },
  {
   "cell_type": "code",
   "execution_count": null,
   "metadata": {},
   "outputs": [],
   "source": [
    "separate_predictions_plants_ts('cfs')\n",
    "separate_predictions_plants_ts('gefs')"
   ]
  },
  {
   "cell_type": "markdown",
   "source": [
    "#### Geração de Features a partir dos dados de precipitação"
   ],
   "metadata": {
    "collapsed": false
   }
  },
  {
   "cell_type": "markdown",
   "source": [
    "Nesta parte, criaremos novas features: a precipitação média em cada um dos últimos 15 dias, a precipitação total dos últimos 15 e dos últimos 30 dias\n",
    "```python\n",
    "def create_new_features(ts_dict: dict):\n",
    "    for key, df in ts_dict.items():\n",
    "\n",
    "        # Calculando as datas anteriores e os valores correspondentes\n",
    "        for i in range(1, 16):\n",
    "            df[f'-{i}d'] = df['mean_precipitation'].shift(i)\n",
    "\n",
    "        ts_dict[key] = df\n",
    "        df['mean_last_15d'] = df['mean_precipitation'].rolling(window=15).sum()\n",
    "        df['mean_last_30d'] = df['mean_precipitation'].rolling(window=30).sum()\n",
    "\n",
    "\n",
    "```"
   ],
   "metadata": {
    "collapsed": false
   }
  },
  {
   "cell_type": "code",
   "execution_count": null,
   "outputs": [],
   "source": [
    "create_new_features(ts_dict)"
   ],
   "metadata": {
    "collapsed": false
   }
  },
  {
   "cell_type": "markdown",
   "source": [
    "#### Separação dos dados de treino e teste"
   ],
   "metadata": {
    "collapsed": false
   }
  },
  {
   "cell_type": "markdown",
   "source": [
    "```python\n",
    "def split_train_test(ts_dict: dict):\n",
    "    X_train_dict = {}\n",
    "    X_test_dict = {}\n",
    "    y_train_dict = {}\n",
    "    y_test_dict = {}\n",
    "\n",
    "    for key, df in ts_dict.items():\n",
    "        X = df.drop(columns=['mean_precipitation'])\n",
    "        y = df['mean_precipitation']\n",
    "\n",
    "        X_train, X_test, y_train, y_test = train_test_split(X, y, test_size=0.2, random_state=25)\n",
    "\n",
    "        X_train_dict[key] = X_train\n",
    "        X_test_dict[key] = X_test\n",
    "        y_train_dict[key] = y_train\n",
    "        y_test_dict[key] = y_test\n",
    "\n",
    "    return X_train_dict, X_test_dict, y_train_dict, y_test_dict\n",
    "```"
   ],
   "metadata": {
    "collapsed": false
   }
  },
  {
   "cell_type": "code",
   "execution_count": null,
   "outputs": [],
   "source": [
    "X_train_dict, X_test_dict, y_train_dict, y_test_dict = split_train_test(ts_dict)"
   ],
   "metadata": {
    "collapsed": false
   }
  }
 ],
 "metadata": {
  "kernelspec": {
   "display_name": "ged-20",
   "language": "python",
   "name": "python3"
  },
  "language_info": {
   "codemirror_mode": {
    "name": "ipython",
    "version": 3
   },
   "file_extension": ".py",
   "mimetype": "text/x-python",
   "name": "python",
   "nbconvert_exporter": "python",
   "pygments_lexer": "ipython3",
   "version": "3.10.12"
  }
 },
 "nbformat": 4,
 "nbformat_minor": 2
}
